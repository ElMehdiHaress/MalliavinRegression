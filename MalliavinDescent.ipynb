{
 "cells": [
  {
   "cell_type": "markdown",
   "metadata": {},
   "source": [
    "# Non-parametric regression "
   ]
  },
  {
   "cell_type": "markdown",
   "metadata": {},
   "source": [
    "We consider a regression model $Y=h(X)+E$ where $(X,Y)$ are the observations, $E$ is a gaussian noise and $h$ is the function we want to learn. We assume that $h$ belongs to the Hilbert space\n",
    "$$ H = \\{ f, f(x)= \\int_0^x f'(s) ds \\text{ with } f' \\in L^2(0,1) \\},$$\n",
    "and that the support of the distribution of $X$ is included in $[0,1]$. \n",
    "\n",
    "We set $L(h)$ as the squared loss associated to the model (i.e $L(h) = \\mathbb{E}(Y-h(X))^2$ ).\n",
    "\n",
    "We can thus compute the Fréchet Gradient of $L$ with respect to $h$ as: $$\\nabla L (h) (.) = \\mathbb{E}\\Biggl[ 2(Y-h(X)) \\min(.,X) \\Biggr] \\ .$$\n",
    "\n",
    "Theoretically, we have now all the tools to perform a simple gradient descent to learn $h$. If we denote by $(X_i,Y_i)_{i=1,..,n}$ our training sample, then the gradient descent update takes the form: \n",
    "$$ h^{t+1}(.) = h^t(.) - 2 \\alpha \\frac{1}{n} \\sum_{i}(Y_i-h^t(X_i)) \\min(.,X_i) \\ ,$$ \n",
    "where $\\alpha$ is the stepsize. \n",
    "\n",
    "The question now is : How do we compute it? We can't simply discretize the interval $[0,1]$ and learn the function in the points of the discretization, because doing so, we may not be able to compute the value $h(X)$ unless the value of $X$ falls into the discretization.\n",
    "\n",
    "We offer here a true computation of the gradient descent above. That is, after T iterations, the function we plot is exactly $h^T$. The idea is to first compute the table $\\{h^{t}(X_i)\\}_{i \\in [1,n], t \\in [1,T]}$. Then, by a telescoping series argument, we have\n",
    "$$ h^T(.) = h^0(.) - 2 \\alpha \\sum_{t=1,..,T} \\frac{1}{n} \\sum_{i} (Y_i - h^t(X_i)) \\min(.,X_i) \\ .$$"
   ]
  },
  {
   "cell_type": "markdown",
   "metadata": {},
   "source": [
    "## A gradient-free approach"
   ]
  },
  {
   "cell_type": "markdown",
   "metadata": {},
   "source": [
    "We used here the squared loss which gradient can be easily computed. However, for general losses, one can imagine a gradient that is not explicitly known or too coslty to be computed. In this case, referring to Malliavin Calculus, we know that for all $f,g \\in H$\n",
    "$$ \\mathbb{E} \\langle \\nabla L (g), f \\rangle = \\mathbb{E} L(g) \\int_0^1 f'(s) dB_s .$$\n",
    "\n",
    "One can compute using this formula an unbiased estimate of the gradient using only the loss itself: \n",
    "$$ \\hat{\\nabla L} (h) (.) = \\frac{1}{\\gamma} L(h(X)+ \\gamma B_X) B(.) \\ ,$$\n",
    "where $\\gamma$ is a smoothing parameter.\n",
    "\n",
    "Therefore, we can now perform the gradient-free SGD:\n",
    "$$h^{t+1}(.) = h^t(.) -  \\frac{\\alpha}{\\gamma} \\frac{1}{n} \\sum_{i} L(h^t(X_i)+ \\gamma B^t_{X_i}) B^t(.) \\ ,$$\n",
    "which can be implemented exactly using the same argument as before."
   ]
  },
  {
   "cell_type": "markdown",
   "metadata": {},
   "source": [
    "## Changing the space H : new gradients"
   ]
  },
  {
   "cell_type": "markdown",
   "metadata": {},
   "source": [
    "The Fréchet gradient depends on the space $H$. Therefore, it is important to have an expression of the gradient for different spaces $H$. We propose a method for computing the gradient for different Hilbert spaces strictly embedded in $H$."
   ]
  },
  {
   "cell_type": "markdown",
   "metadata": {},
   "source": [
    "Consider $H_2 = \\{f \\in H^2(0,1), f(0)=0, f^{'}(0)=0 \\}$, where $H^2$ is the Sobolev space with integer $2$. The scalar product in $H_2$ is $$\\langle f,g \\rangle = \\int_0^1 f' g' + \\int_0^1 f'' g'' .$$\n",
    "Therefore, to compute the Fréchet gradient of the linear form $h \\mapsto h(t)$ for some fixed $t$, one needs to find $g$ in $H_2$ such that $$\\int_0^1 g^{(4)}-g'' + [f' g\"]_0^1 + [fg']_0^1 -[f g^{(3)}]_0^1 = g(t).$$\n",
    "In a distributional sense, it is sufficient to find $g$ in $H_2$ such that\n",
    "$$ -g^{(4)}+g'' = \\delta_t ,$$ and $g''(1)=0, \\ g^{(3)}(1)=g'(1)$. Solving the ODE this yields\n",
    "$$ g''(x) = sinh(x-t) \\mathbf{1}_{[0,t)}(x).$$"
   ]
  },
  {
   "cell_type": "markdown",
   "metadata": {},
   "source": [
    "In general, one may consider the space $H_k = \\{f \\in H^k(0,1), f(0)=0,..,f^{k-1}(0)=0 \\}$, and follow a similar analysis."
   ]
  },
  {
   "cell_type": "markdown",
   "metadata": {},
   "source": [
    "### Remark"
   ]
  },
  {
   "cell_type": "markdown",
   "metadata": {},
   "source": [
    "The gradient-free formula given by Malliavin Calculus depends on the space $H$. \n",
    "(The adjoint operator changes)"
   ]
  },
  {
   "cell_type": "markdown",
   "metadata": {},
   "source": [
    "# TODO\n",
    "* clean and rerun for the three 1D payoff functions \n",
    "* reproduce for higher dimensions\n",
    "* run a real-life example in higher dimension \n",
    "* run gradient-free examples with spectral risks"
   ]
  },
  {
   "cell_type": "code",
   "execution_count": 6,
   "metadata": {},
   "outputs": [],
   "source": [
    "import numpy as np\n",
    "import matplotlib.pyplot as plt\n",
    "import seaborn as sns\n",
    "from tqdm import tqdm\n",
    "from math import *\n",
    "from sklearn import neighbors\n",
    "import scipy\n",
    "from scipy import stats, interpolate\n",
    "from scipy.linalg import sqrtm\n",
    "from scipy.misc import derivative\n",
    "import numpy as np\n",
    "from functools import partial\n",
    "\n",
    "\n",
    "from sklearn.gaussian_process import GaussianProcessRegressor\n",
    "from sklearn.kernel_ridge import KernelRidge\n",
    "from sklearn.gaussian_process.kernels import RBF"
   ]
  },
  {
   "cell_type": "markdown",
   "metadata": {},
   "source": [
    "A Brownian Motion function "
   ]
  },
  {
   "cell_type": "code",
   "execution_count": 2,
   "metadata": {},
   "outputs": [],
   "source": [
    "def brownian(n_brownians):\n",
    "    \"\"\"\n",
    "    Returns several trajectories of a brownian motion as functions which can be evaluated on any point\n",
    "    \"\"\"\n",
    "    Y = np.linspace(0, 1, 1000)\n",
    "    \n",
    "    n = len(Y) \n",
    "    sample_values = np.zeros((n, n_brownians))\n",
    "    step = 1 / n\n",
    "    \n",
    "    for i in range(n - 1):\n",
    "        sample_values[i + 1] = sample_values[i] + sqrt(step) * np.random.randn(n_brownians)\n",
    "        \n",
    "    f = interpolate.interp1d(Y[np.newaxis:],sample_values,kind='linear',axis=0)\n",
    "    return f"
   ]
  },
  {
   "cell_type": "markdown",
   "metadata": {},
   "source": [
    "We define here the function we want to learn, which we call payoff"
   ]
  },
  {
   "cell_type": "code",
   "execution_count": 3,
   "metadata": {},
   "outputs": [],
   "source": [
    "def payoff1D(t, name):\n",
    "    if name == \"sinus\":\n",
    "        return np.sin(2 * pi * t)\n",
    "    elif name == \"growingsinus\":\n",
    "        return np.square(0.1*t)*np.sin(1/(0.1*t + 1e-10)) \n",
    "    elif name == \"sharpsinus\":\n",
    "        n_segments = 6\n",
    "        breakpts = [i/n_segments for i in range(n_segments + 1)]\n",
    "        max_abs_val = 1\n",
    "        res = []\n",
    "        def sharpsinus(x):\n",
    "            if x == 0.:\n",
    "                return 0.\n",
    "            else:\n",
    "                for i in range(n_segments):\n",
    "                    if (x > breakpts[i]) and (x <= breakpts[i + 1]):\n",
    "                        sign_d = 2 * (i % 2 == 0) - 1\n",
    "                        a = n_segments\n",
    "                        return sign_d * ((a * x)  - (i + int(i%2)) * a * 1/n_segments)\n",
    "        if type(t) == np.float64:\n",
    "            return sharpsinus(t)\n",
    "        else:\n",
    "            for x in t:\n",
    "                res.append(sharpsinus(x)) \n",
    "            return res\n",
    "    else:\n",
    "        raise ValueError(\"{} is not a recognized payoff type\".format(name))"
   ]
  },
  {
   "cell_type": "code",
   "execution_count": 4,
   "metadata": {},
   "outputs": [],
   "source": [
    "def generate_data(n_train, n_test, noise_var=10, name_model=\"sinus\", show=False):\n",
    "    X = np.random.uniform(0, 1, n_train + n_test)\n",
    "    \n",
    "    X_train = X[:n_train]\n",
    "    X_test = X[n_train:]\n",
    "    \n",
    "    # the independant noise\n",
    "    E = np.random.normal(0, noise_var, n_train)\n",
    "    Y_train = payoff1D(X_train, name_model) + E\n",
    "    \n",
    "    if show:\n",
    "        plt.figure()\n",
    "        plt.scatter(X_train, Y_train, s=5)\n",
    "        plt.xlabel(\"X\")\n",
    "        plt.ylabel(\"Y\")\n",
    "        plt.title(\"Training data\")\n",
    "        plt.show()\n",
    "    return X_train, Y_train, X_test"
   ]
  },
  {
   "cell_type": "code",
   "execution_count": 5,
   "metadata": {},
   "outputs": [],
   "source": [
    "# Set parameters for the experiment\n",
    "n_train = 50\n",
    "noise_variance = 0.2\n",
    "model_name = \"sinus\"\n",
    "n_test = 500\n",
    "\n",
    "# params for H1 and H2 gradient descents\n",
    "step1 = 0.1\n",
    "step2 = 1\n",
    "n_iter = 5000\n",
    "\n",
    "# params for gradient-free descent\n",
    "n_iter_gfree = 10000\n",
    "gamma = 1\n",
    "step_gfree = 0.01\n",
    "n_brownians = 100"
   ]
  },
  {
   "cell_type": "code",
   "execution_count": 6,
   "metadata": {},
   "outputs": [
    {
     "data": {
      "image/png": "[encoded data removed]",
      "text/plain": [
       "<Figure size 432x288 with 1 Axes>"
      ]
     },
     "metadata": {
      "needs_background": "light"
     },
     "output_type": "display_data"
    }
   ],
   "source": [
    "t = np.linspace(0,1,1000)\n",
    "plt.plot(t, payoff1D(t, model_name))\n",
    "plt.title(\"Payoff function\")\n",
    "plt.show()"
   ]
  },
  {
   "cell_type": "markdown",
   "metadata": {},
   "source": [
    "Here's the noisy training data for our regression model"
   ]
  },
  {
   "cell_type": "code",
   "execution_count": 7,
   "metadata": {},
   "outputs": [
    {
     "data": {
      "image/png": "[encoded data removed]",
      "text/plain": [
       "<Figure size 432x288 with 1 Axes>"
      ]
     },
     "metadata": {
      "needs_background": "light"
     },
     "output_type": "display_data"
    }
   ],
   "source": [
    "X_train, Y_train, X_test = generate_data(n_train, n_test, noise_var=noise_variance, name_model=model_name, show=True)\n",
    "y_test = payoff1D(X_test, model_name)"
   ]
  },
  {
   "cell_type": "code",
   "execution_count": 8,
   "metadata": {},
   "outputs": [],
   "source": [
    "def f0(t):\n",
    "    # the identity function is our initialization\n",
    "    return t.copy()"
   ]
  },
  {
   "cell_type": "code",
   "execution_count": 7,
   "metadata": {},
   "outputs": [],
   "source": [
    "def h2_phi(t,x):\n",
    "    term1 = - np.sinh(np.minimum(x,t) - t)\n",
    "    term2 = - np.sinh(t) + np.cosh(t) * np.minimum(x,t)\n",
    "    term3 =  - np.sinh(t) * (np.cosh(x) - 1) + np.sinh(t) * np.sinh(x) / np.sinh(1)\n",
    "    return  term1 + term2 + term3"
   ]
  },
  {
   "cell_type": "code",
   "execution_count": 10,
   "metadata": {},
   "outputs": [],
   "source": [
    "def h3_phi(x,t):\n",
    "    \"\"\"\n",
    "    Expression not complete\n",
    "    \"\"\"\n",
    "    return np.exp(x-t)/3 - (np.exp(-(x-t)/2)/3)*(np.cos(sqrt(3)*(x-t)/2) + sqrt(3)*np.sin(sqrt(3)*(x-t)/2))"
   ]
  },
  {
   "cell_type": "code",
   "execution_count": 11,
   "metadata": {},
   "outputs": [],
   "source": [
    "def gradient_free_descent(X_train, Y_train, f0, gamma, n_iter=1000, step=0.05):\n",
    "    n = len(X_train)\n",
    "    F = np.zeros((n_iter,n))\n",
    "    F[0, :] = f0(X_train)\n",
    "    \n",
    "    # Why n steps for n points?\n",
    "    for i in tqdm(range(1, n_iter)):\n",
    "        brownian_motions = B[i]\n",
    "        bs = np.array([brownian_motions(x) for x in X_train])\n",
    "        for j in range(n): \n",
    "            F[i,j] = F[i-1,j] -\\\n",
    "            (step/gamma) * np.mean(((F[i-1, :][:,np.newaxis] + gamma*bs - Y_train[:,np.newaxis])**2) * \n",
    "                                   brownian_motions(X_train[j]))\n",
    "    return F\n",
    "\n",
    "def gradient_free_f(xs, F_train, f0, X_train, Y_train, gamma, step=0.05, scalar=False, verbose=True):\n",
    "    \"\"\"\n",
    "    Applying the learnt function to points outside the training sample\n",
    "    \"\"\"\n",
    "    if not isinstance(xs, np.ndarray):\n",
    "        xs = np.array([xs])\n",
    "    n_iter = F_train.shape[0]\n",
    "    n_test = len(xs)\n",
    "    res = f0(xs)\n",
    "    \n",
    "    if verbose:\n",
    "        rng = tqdm(range(n_iter - 1))\n",
    "    else:\n",
    "        rng = range(n_iter - 1)\n",
    "        \n",
    "    for j in rng: \n",
    "        brownian_motions = B[j]\n",
    "        bs = np.array([brownian_motions(x_tr) for x_tr in X_train])\n",
    "        loss_term = np.square(F_train[j,:][:,np.newaxis] + gamma*bs - Y_train[:,np.newaxis])[np.newaxis, :, :]\n",
    "        res += -(step/gamma) * np.mean(loss_term * brownian_motions(xs)[:, np.newaxis, :], axis=(1, 2))\n",
    "    if scalar:\n",
    "        return res[0]\n",
    "    return res"
   ]
  },
  {
   "cell_type": "code",
   "execution_count": 12,
   "metadata": {},
   "outputs": [],
   "source": [
    "def gradient_descent(X_train, Y_train, f0, sobolev_idx, n_iter=1000, step=0.05):\n",
    "    \"\"\"\n",
    "    Learning the function in the training sample points\n",
    "    \"\"\"\n",
    "    n = len(X_train)\n",
    "    F = np.zeros((n_iter,n))\n",
    "    F[0, :] = f0(X_train)\n",
    "    if sobolev_idx == 1:\n",
    "        phi = np.minimum\n",
    "    elif sobolev_idx == 2:\n",
    "        phi = h2_phi\n",
    "    \n",
    "    # Why n steps for n points?\n",
    "    for i in tqdm(range(1, n_iter)):\n",
    "        F[i, :] = F[i-1, :] - 2 * step * np.mean((F[i-1,:] - Y_train) * phi(X_train[np.newaxis, :], \n",
    "                                                                            X_train[:, np.newaxis]), axis=1)\n",
    "    return F\n",
    "\n",
    "def f(xs, F_train, f0, X_train, Y_train, sobolev_idx, step=0.05, scalar=False, verbose=True):\n",
    "    \"\"\"\n",
    "    Applying the learnt function to points outside the training sample\n",
    "    \"\"\"\n",
    "    if not isinstance(xs, np.ndarray):\n",
    "        xs = np.array([xs])\n",
    "    if sobolev_idx == 1:\n",
    "        phi = np.minimum\n",
    "    elif sobolev_idx == 2:\n",
    "        phi = h2_phi\n",
    "    n_iter = F_train.shape[0]\n",
    "    \n",
    "    if verbose:\n",
    "        rng = tqdm(range(n_iter - 1))\n",
    "    else:\n",
    "        rng = range(n_iter - 1)\n",
    "        \n",
    "    grads = np.array([np.mean(2 * step * (F_train[j, :] - Y_train) * phi(X_train[np.newaxis, :], xs[:, np.newaxis]), \n",
    "                              axis=1)\n",
    "                      for j in rng])\n",
    "    res = f0(xs) - np.sum(grads, axis=0)\n",
    "    if scalar:\n",
    "        return res[0]\n",
    "    else:\n",
    "        return res"
   ]
  },
  {
   "cell_type": "code",
   "execution_count": 13,
   "metadata": {},
   "outputs": [
    {
     "name": "stderr",
     "output_type": "stream",
     "text": [
      "100%|████████████████████████████████████| 4999/4999 [00:00<00:00, 79797.70it/s]\n",
      "100%|████████████████████████████████████| 4999/4999 [00:00<00:00, 18624.92it/s]\n"
     ]
    }
   ],
   "source": [
    "F_train_h1 = gradient_descent(X_train, Y_train, f0, 1, n_iter, step1)\n",
    "y_pred_test_h1 = f(X_test, F_train_h1, f0, X_train, Y_train, 1, step1)"
   ]
  },
  {
   "cell_type": "code",
   "execution_count": 14,
   "metadata": {},
   "outputs": [
    {
     "name": "stderr",
     "output_type": "stream",
     "text": [
      "100%|████████████████████████████████████| 4999/4999 [00:00<00:00, 22974.82it/s]\n",
      "100%|█████████████████████████████████████| 4999/4999 [00:01<00:00, 3926.20it/s]\n"
     ]
    }
   ],
   "source": [
    "F_train_h2 = gradient_descent(X_train, Y_train, f0, 2, n_iter, step2)\n",
    "y_pred_test_h2 = f(X_test, F_train_h2, f0, X_train, Y_train, 2, step2)"
   ]
  },
  {
   "cell_type": "code",
   "execution_count": 15,
   "metadata": {},
   "outputs": [
    {
     "name": "stderr",
     "output_type": "stream",
     "text": [
      "100%|████████████████████████████████████| 10000/10000 [00:29<00:00, 342.02it/s]\n",
      "100%|██████████████████████████████████████| 9999/9999 [00:26<00:00, 380.13it/s]\n",
      "100%|██████████████████████████████████████| 9999/9999 [00:31<00:00, 320.53it/s]\n"
     ]
    }
   ],
   "source": [
    "B = []\n",
    "for i in tqdm(range(n_iter_gfree)):\n",
    "    B.append(brownian(n_brownians))\n",
    "    \n",
    "F_train_gfree = gradient_free_descent(X_train, Y_train, f0, gamma, n_iter_gfree, step_gfree)\n",
    "y_pred_test_gfree = gradient_free_f(X_test, F_train_gfree, f0, X_train, Y_train, gamma, step_gfree)"
   ]
  },
  {
   "cell_type": "markdown",
   "metadata": {},
   "source": [
    "Run baselines on the same data for comparison"
   ]
  },
  {
   "cell_type": "code",
   "execution_count": 16,
   "metadata": {},
   "outputs": [],
   "source": [
    "knn = neighbors.KNeighborsRegressor(n_neighbors=5, weights=\"distance\")\n",
    "knn_pred_y_test = knn.fit(X_train.reshape((-1, 1)), Y_train).predict(X_test.reshape((-1, 1)))\n",
    "\n",
    "gpr = GaussianProcessRegressor().fit(X_train.reshape((-1, 1)), Y_train)\n",
    "gpr_pred_y_test = gpr.predict(X_test.reshape((-1, 1)))\n",
    "\n",
    "krr = KernelRidge(alpha=.0001, kernel=RBF()).fit(X_train.reshape((-1, 1)), Y_train)\n",
    "krr_pred_y_test = krr.predict(X_test.reshape((-1, 1)))"
   ]
  },
  {
   "cell_type": "markdown",
   "metadata": {},
   "source": [
    "Compare the results of both regressions to the ground truth"
   ]
  },
  {
   "cell_type": "code",
   "execution_count": 17,
   "metadata": {},
   "outputs": [
    {
     "data": {
      "image/png": "[encoded data removed]",
      "text/plain": [
       "<Figure size 432x288 with 1 Axes>"
      ]
     },
     "metadata": {
      "needs_background": "light"
     },
     "output_type": "display_data"
    }
   ],
   "source": [
    "test_order = np.argsort(X_test)\n",
    "plt.title(\"n_iter = {}, n_train = {}, noise variance = {}\".format(n_iter,n_train, noise_variance))\n",
    "\n",
    "sorted_X_test = np.sort(X_test)\n",
    "plt.plot(sorted_X_test, knn_pred_y_test[test_order], label='KNN', color='y')\n",
    "plt.plot(sorted_X_test, krr_pred_y_test[test_order], label='KRR', color='orange')\n",
    "plt.plot(sorted_X_test, gpr_pred_y_test[test_order], label='GP', color='grey')\n",
    "plt.plot(sorted_X_test, y_pred_test_h1[test_order], label='GD_H1', color='b')\n",
    "plt.plot(sorted_X_test, y_pred_test_h2[test_order], label='GD_H2', color='r')\n",
    "plt.plot(sorted_X_test, y_pred_test_gfree[test_order], label='GD_free', color='black')\n",
    "plt.plot(sorted_X_test, y_test[test_order], label='Ground truth', color='g')\n",
    "plt.legend()\n",
    "plt.show()"
   ]
  },
  {
   "cell_type": "markdown",
   "metadata": {},
   "source": [
    "Comparison of the derivatives"
   ]
  },
  {
   "cell_type": "code",
   "execution_count": 18,
   "metadata": {},
   "outputs": [
    {
     "name": "stderr",
     "output_type": "stream",
     "text": [
      "100%|█████████████████████████████████████████| 500/500 [00:47<00:00, 10.63it/s]\n",
      "100%|█████████████████████████████████████████| 500/500 [01:57<00:00,  4.26it/s]\n"
     ]
    }
   ],
   "source": [
    "y_pred_deriv_h1 = np.array([derivative(f, x, dx = 1e-6, args=(F_train_h1, f0, X_train, Y_train,1, step1, True, \n",
    "                                                              False)) \n",
    "                            for x in tqdm(X_test)])\n",
    "y_pred_deriv_h2 = np.array([derivative(f, x, dx = 1e-6, args=(F_train_h2, f0, X_train, Y_train, 2, step2, True, \n",
    "                                                              False)) \n",
    "                            for x in tqdm(X_test)])\n",
    "# y_pred_deriv_gfree = [derivative(gradient_free_f, x, dx = 1e-6, args=(F_train_gfree, f0, X_train, Y_train, gamma, \n",
    "#                                                                       step_gfree, True, False)) \n",
    "#                       for x in tqdm(X_test)]\n",
    "true_deriv = np.array([derivative(partial(payoff1D, **{\"name\": model_name}), x, dx = 1e-6) for x in sorted_X_test])"
   ]
  },
  {
   "cell_type": "code",
   "execution_count": 19,
   "metadata": {},
   "outputs": [
    {
     "data": {
      "image/png": "[encoded data removed]",
      "text/plain": [
       "<Figure size 432x288 with 1 Axes>"
      ]
     },
     "metadata": {
      "needs_background": "light"
     },
     "output_type": "display_data"
    }
   ],
   "source": [
    "plt.plot(sorted_X_test, y_pred_deriv_h1[test_order], label='GD-deriv_H1', color='b')\n",
    "plt.plot(sorted_X_test, y_pred_deriv_h2[test_order], label='GD-deriv_H2', color='r')\n",
    "# plt.plot(sorted_X_test, y_pred_deriv_gfree[test_order], label='GD-gfree',color='black')\n",
    "plt.plot(sorted_X_test, true_deriv, label='Ground truth-deriv', color='g')\n",
    "plt.legend()\n",
    "plt.show()"
   ]
  },
  {
   "cell_type": "code",
   "execution_count": 20,
   "metadata": {},
   "outputs": [
    {
     "name": "stdout",
     "output_type": "stream",
     "text": [
      "Test L2 loss for the H1 gradient descent: 2.680\n",
      "Test L2 loss for the H2 gradient descent: 2.703\n",
      "Test L2 loss for the gradient-free descent: 2.606\n",
      "Test L2 loss for the KNN regressor: 3.444\n",
      "Test L2 loss for the KRR: 2.017\n",
      "Test L2 loss for the GP regressor: 3.070\n"
     ]
    }
   ],
   "source": [
    "print(\"Test L2 loss for the H1 gradient descent: {:.3f}\".format(np.linalg.norm(y_test - y_pred_test_h1)))\n",
    "print(\"Test L2 loss for the H2 gradient descent: {:.3f}\".format(np.linalg.norm(y_test - y_pred_test_h2)))\n",
    "print(\"Test L2 loss for the gradient-free descent: {:.3f}\".format(np.linalg.norm(y_test - y_pred_test_gfree)))\n",
    "print(\"Test L2 loss for the KNN regressor: {:.3f}\".format(np.linalg.norm(y_test - knn_pred_y_test)))\n",
    "print(\"Test L2 loss for the KRR: {:.3f}\".format(np.linalg.norm(y_test - krr_pred_y_test)))\n",
    "print(\"Test L2 loss for the GP regressor: {:.3f}\".format(np.linalg.norm(y_test - gpr_pred_y_test)))"
   ]
  },
  {
   "cell_type": "markdown",
   "metadata": {},
   "source": [
    "Comparison of the losses on the test sample"
   ]
  },
  {
   "cell_type": "markdown",
   "metadata": {},
   "source": [
    "Plot of the training loss"
   ]
  },
  {
   "cell_type": "code",
   "execution_count": 21,
   "metadata": {},
   "outputs": [
    {
     "data": {
      "image/png": "[encoded data removed]",
      "text/plain": [
       "<Figure size 432x288 with 1 Axes>"
      ]
     },
     "metadata": {
      "needs_background": "light"
     },
     "output_type": "display_data"
    }
   ],
   "source": [
    "loss_train_h1 = np.mean((F_train_h1 - Y_train.reshape((1, -1)))**2, axis=1)\n",
    "loss_train_h2 = np.mean((F_train_h2 - Y_train.reshape((1, -1)))**2, axis=1)\n",
    "loss_train_gfree = np.mean((F_train_gfree - Y_train.reshape((1, -1)))**2, axis=1)\n",
    "\n",
    "plt.figure()\n",
    "plt.plot(loss_train_h1, label=\"GD_H1\", color='blue')\n",
    "plt.plot(loss_train_h2, label=\"GD_H2\", color='red')\n",
    "plt.plot(loss_train_gfree, label=\"GD_free\", color='black')\n",
    "plt.legend()\n",
    "plt.show()"
   ]
  },
  {
   "cell_type": "markdown",
   "metadata": {},
   "source": [
    "# Non-parametric regression in higher dimension"
   ]
  },
  {
   "cell_type": "markdown",
   "metadata": {},
   "source": [
    "We consider a regression model $Y=h(X)+E$ where $(X,Y)$ are the observations, $E$ is a gaussian noise and $h$ is the function we want to learn. We assume that $h$ is a continuous function that belongs to the space\n",
    "$$H = \\{g, \\ g(t) = \\int_0^{t_1} \\int_0^{t_d} g'(s) d s, \\ g' \\in L^2([0,1]^d)$$ and that the support of the distribution of $X$ is included in $[0,1]^d$. \n",
    "\n",
    "We set $L(h)$ as the squared loss associated to the model (i.e $L(h) = \\mathbb{E}(Y-h(X))^2$ ).\n",
    "\n",
    "We can thus compute the Malliavin Gradient of $L$ with respect to $h$ as: $$\\nabla L (h) (.) = \\mathbb{E}\\Biggl[ 2(Y-h(X)) \\Phi(.,X) \\Biggr] \\ .$$\n",
    "\n",
    "Define the kernel functions for all $t \\in [0,1]^d$ as $$\\Phi_t(.) = \\Pi_{k=1}^d (._k \\wedge t_k).$$ \n",
    "\n",
    "Theoretically, we have now all the tools to perform a simple gradient descent to learn $h$. \n",
    "If we denote by $(X_i,Y_i)_{i=1,..,n}$ our training sample, then the gradient descent update takes the form: \n",
    "$$ h^{t+1}(.) = h^t(.) - 2 \\alpha \\frac{1}{n} \\sum_{i}(Y_i-h^t(X_i)) \\Phi_{X_i}(.) \\ ,$$ \n",
    "where $\\alpha$ is the stepsize. \n",
    "\n",
    "Again, the idea is to first compute the table $\\{h^{t}(X_i)\\}_{i \\in [1,n], t \\in [1,T]}$. Then, by a telescoping series argument, we have\n",
    "$$ h^T(.) = h^0(.) - 2 \\alpha \\sum_{t=1,..,T} \\frac{1}{n} \\sum_{i} (Y_i - h^t(X_i)) \\Phi_{X_i}(.) \\ .$$\n",
    "\n",
    "For general losses, referring to Malliavin Calculus, one can compute an unbiased estimate of the gradient using only the loss itself and a Brownian sheet $B$\n",
    "$$ \\hat{\\nabla L} (h) (.) = \\frac{1}{\\gamma} L(h(X)+ \\gamma B_X) B(.) \\ ,$$\n",
    "where $\\gamma$ is a smoothing parameter.\n",
    "\n",
    "Therefore, we can now perform the gradient-free SGD:\n",
    "$$h^{t+1}(.) = h^t(.) -  \\frac{\\alpha}{\\gamma} \\frac{1}{n} \\sum_{i} L(h^t(X_i)+ \\gamma B^t_{X_i}) B^t(.) \\ ,$$\n",
    "which can be implemented exactly using the same argument as before."
   ]
  },
  {
   "cell_type": "markdown",
   "metadata": {},
   "source": [
    "## In a general setting"
   ]
  },
  {
   "cell_type": "markdown",
   "metadata": {},
   "source": [
    "In general, the function we want to learn does not belong to $H$, but that should not be a problem as long as it satisfies some regularity assumptions. Say the function $h$ is $\\mathcal{C}^2$ on a domain $[a,b]^d$. Consider then for some $\\varepsilon >0$ the function $h_\\varepsilon : [\\varepsilon , 1]^d \\mapsto \\mathbb{R}$\n",
    "$$ h_\\varepsilon (x) = h( (b-a) \\frac{x-\\varepsilon}{1-\\varepsilon} + a ).$$\n",
    "Next, consider an extension $\\tilde{h}$ of $h_\\varepsilon$ to $[0,1]^d$ such that $\\tilde{h}(...,0,...) = 0$ and $\\tilde{h}$ is $\\mathcal{C}^2$. It is easy to see that $\\tilde{h}$ belongs to the space $H$. Moreover, let $\\mathcal{M}$ denote the mapping $h \\mapsto \\tilde{h}$, then $\\tilde{h}$ satisfies the regression problem\n",
    "$$ Y = M^{-1}(\\tilde{h})(X)+E .$$"
   ]
  },
  {
   "cell_type": "markdown",
   "metadata": {},
   "source": [
    "Since $X$ belongs to $[a,b]^d$, we can write the regresison problem as $$Y = h_\\varepsilon(\\frac{\\frac{X-a}{b-a}+\\varepsilon}{1-\\varepsilon}) + E$$"
   ]
  },
  {
   "cell_type": "markdown",
   "metadata": {},
   "source": [
    "Therefore, after modifying the sample $X$, the gradient descent described above can learn the function $h_\\varepsilon$ on $[\\varepsilon,1]^d$."
   ]
  },
  {
   "cell_type": "markdown",
   "metadata": {},
   "source": [
    "## Changing the space $H$ in higher dimension"
   ]
  },
  {
   "cell_type": "markdown",
   "metadata": {},
   "source": [
    "The analysis done in dimension $1$ becomes much more difficult here. Let $B$ denote the boundary on which one of the coordinates vanishes. By analogy, consider the space\n",
    "$H_2 = \\{f \\in H^2(0,1), f(0)=0, \\nabla f . n _B= 0 \\},$\n",
    "embedded with the scalar product \n",
    "$$ \\langle f, g \\rangle = \\int_{[0,1]^2} \\langle \\nabla f , \\nabla g \\rangle + \\int_{[0,1]^2} \\Delta f \\Delta g .$$\n",
    "In this case, finding the Fréchet gradient $g$ of $h \\mapsto h(t)$ requires solving \n",
    "$$ \\Delta (\\Delta-I)g = \\delta_t ,$$\n",
    "which is not a trivial problem. "
   ]
  },
  {
   "cell_type": "markdown",
   "metadata": {},
   "source": [
    "## Complex losses : spectral risks"
   ]
  },
  {
   "cell_type": "markdown",
   "metadata": {},
   "source": [
    "Learning problems can usually be stated in terms of minimising the risk $\\mathbb{E} L(w; Z)$, where $Z$ is a random observation, and $w$ characterizes some decision rule. We consider here a family of more complex risks (spectral risks), which we can write as\n",
    "$$ R_\\sigma(w) = \\mathbb{E} L(w;Z) \\sigma( F_w(L(w;Z)) ,$$\n",
    "where $F_w$ is the CDF of the distribution of $L(w;Z)$ and $\\sigma : [0,1] \\mapsto \\mathbb{R}_+$ is a non-negative, non-decreasing function that integrates to $1$."
   ]
  },
  {
   "cell_type": "markdown",
   "metadata": {},
   "source": [
    "In this case, gradient methods fail because while $F_w$ may be differentiable with respect to $w$, it is never known in practice. Even in an ideal setting where $F_w$ is the CDF of a Gaussian distribution with standard deviation $\\| w \\|_2$, its gradient is not easy to compute. "
   ]
  },
  {
   "cell_type": "markdown",
   "metadata": {},
   "source": [
    "If $w$ is a function of the space $H$, one can perform the gradient-free approach described above."
   ]
  },
  {
   "cell_type": "code",
   "execution_count": null,
   "metadata": {},
   "outputs": [],
   "source": []
  }
 ],
 "metadata": {
  "kernelspec": {
   "display_name": "Python 3",
   "language": "python",
   "name": "python3"
  },
  "language_info": {
   "codemirror_mode": {
    "name": "ipython",
    "version": 3
   },
   "file_extension": ".py",
   "mimetype": "text/x-python",
   "name": "python",
   "nbconvert_exporter": "python",
   "pygments_lexer": "ipython3",
   "version": "3.8.5"
  }
 },
 "nbformat": 4,
 "nbformat_minor": 4
}
