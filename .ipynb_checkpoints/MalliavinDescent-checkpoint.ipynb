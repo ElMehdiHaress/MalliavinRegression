{
 "cells": [
  {
   "cell_type": "markdown",
   "metadata": {},
   "source": [
    "# Non-parametric regression "
   ]
  },
  {
   "cell_type": "markdown",
   "metadata": {},
   "source": [
    "We consider a regression model $Y=h(X)+E$ where $(X,Y)$ are the observations, $E$ is a gaussian noise and $h$ is the function we want to learn. We assume that $h$ is a continuous function such that $h(0)=0$ and that the support of the distribution of $X$ is included in $[0,1]$. \n",
    "\n",
    "We set $L(h)$ as the squared loss associated to the model (i.e $L(h) = \\mathbb{E}(Y-h(X))^2$ ).\n",
    "\n",
    "We can thus compute the Malliavin Gradient of $L$ with respect to $h$ as: $$\\nabla L (h) (.) = \\mathbb{E}\\Biggl[ 2(Y-h(X)) \\min(.,X) \\Biggr] \\ .$$\n",
    "\n",
    "Theoretically, we have now all the tools to perform a simple gradient descent to learn $h$. If we denote by $(X_i,Y_i)_{i=1,..,n}$ our training sample, then the gradient descent update takes the form: \n",
    "$$ h^{t+1}(.) = h^t(.) - 2 \\alpha \\frac{1}{n} \\sum_{i}(Y_i-h^t(X_i)) \\min(.,X_i) \\ ,$$ \n",
    "where $\\alpha$ is the stepsize. \n",
    "\n",
    "The question now is : How do we compute it? We can't simply discretize the interval $[0,1]$ and learn the function in the points of the discretization, because doing so, we may not be able to compute the value $h(X)$ unless the value of $X$ falls into the discretization.\n",
    "\n",
    "We offer here a true computation of the gradient descent above. That is, after T iterations, the function we plot is exactly $h^T$. The idea is to first compute the table $\\{h^{t}(X_i)\\}_{i \\in [1,n], t \\in [1,T]}$. Then, by a telescoping series argument, we have\n",
    "$$ h^T(.) = h^0(.) - 2 \\alpha \\sum_{t=1,..,T} \\frac{1}{n} \\sum_{i} (Y_i - h^t(X_i)) \\min(.,X_i) \\ .$$\n",
    "\n",
    "Anyhow, we used here the squared loss which gradient can be easily computed. However, for general losses, one can imagine a gradient that is not explicitly known or too coslty to be computed. In this case, referring to Malliavin Calculus, one can compute an unbiased estimate of the gradient using only the loss itself: \n",
    "$$ \\hat{\\nabla L} (h) (.) = \\frac{1}{\\gamma} L(h(X)+ \\gamma B_X) B(.) \\ ,$$\n",
    "where $\\gamma$ is a smoothing parameter.\n",
    "\n",
    "Therefore, we can now perform the gradient-free SGD:\n",
    "$$h^{t+1}(.) = h^t(.) -  \\frac{\\alpha}{\\gamma} \\frac{1}{n} \\sum_{i} L(h^t(X_i)+ \\gamma B^t_{X_i}) B^t(.) \\ ,$$\n",
    "which can be implemented exactly using the same argument as before."
   ]
  },
  {
   "cell_type": "code",
   "execution_count": 3,
   "metadata": {},
   "outputs": [],
   "source": [
    "import numpy as np\n",
    "import matplotlib.pyplot as plt\n",
    "import seaborn as sns\n",
    "from scipy.linalg import sqrtm\n",
    "from tqdm import tqdm\n",
    "from math import *\n",
    "from sklearn import neighbors\n",
    "import scipy\n",
    "from scipy import stats\n",
    "import numpy as np"
   ]
  },
  {
   "cell_type": "markdown",
   "metadata": {},
   "source": [
    "A Brownian Motion function "
   ]
  },
  {
   "cell_type": "code",
   "execution_count": 4,
   "metadata": {},
   "outputs": [],
   "source": [
    "def brownian(T, N):\n",
    "    # N evenly spaced points betweeb 0 and T of the realisation of a Brownian movement\n",
    "    #T : Total time.\n",
    "    #N : Number of points\n",
    "    dt = T / N  \n",
    "    x = np.zeros(N)\n",
    "    for i in range(N - 1):\n",
    "        x[i + 1] = x[i] + sqrt(dt) * np.random.randn()\n",
    "    return x"
   ]
  },
  {
   "cell_type": "markdown",
   "metadata": {},
   "source": [
    "We define here our the function we want to learn, which we call payoff"
   ]
  },
  {
   "cell_type": "code",
   "execution_count": 5,
   "metadata": {},
   "outputs": [],
   "source": [
    "def d1(S, K, T, r, sigma):\n",
    "    return (np.log(S / K) + (r + 0.5 * sigma ** 2) * T) / (sigma * np.sqrt(T) + 1e-6)\n",
    "\n",
    "\n",
    "def d2(S, K, T, r, sigma):\n",
    "    return d1(S, K, T, r, sigma) - sigma * np.sqrt(T)\n",
    "\n",
    "\n",
    "def call(S, K, T, r, sigma):\n",
    "    cdf = stats.norm(0, 1).cdf\n",
    "    return S * cdf(d1(S, K, T, r, sigma)) - K * np.exp(-r * T) * cdf(d2(S, K, T, r, sigma))\n",
    "\n",
    "S = 100\n",
    "TT = 1\n",
    "K = 100\n",
    "r = 0.05\n",
    "Sigma = 10\n",
    "a = call(S, K, TT, r, 0.2*Sigma)\n",
    "b = call(S, K, TT, r, 0.8*Sigma)\n",
    "def payoff(sigma):\n",
    "    #if sigma < 0.2:\n",
    "    #    return (a/0.2)*(sigma)\n",
    "    #if sigma > 0.8:\n",
    "    #    return b\n",
    "    #else:\n",
    "    \n",
    "    # return call(S,K,TT,r,sigma*Sigma) - call(S,K,TT,r,0) \n",
    "    return np.sin(2 * pi * sigma)"
   ]
  },
  {
   "cell_type": "markdown",
   "metadata": {},
   "source": [
    "payoff plot"
   ]
  },
  {
   "cell_type": "code",
   "execution_count": 6,
   "metadata": {},
   "outputs": [
    {
     "data": {
      "image/png": "[encoded data removed]",
      "text/plain": [
       "<Figure size 432x288 with 1 Axes>"
      ]
     },
     "metadata": {
      "needs_background": "light"
     },
     "output_type": "display_data"
    }
   ],
   "source": [
    "t = np.linspace(0,1,1000)\n",
    "plt.plot(t, payoff(t))\n",
    "plt.show()"
   ]
  },
  {
   "cell_type": "code",
   "execution_count": 7,
   "metadata": {},
   "outputs": [],
   "source": [
    "def generate_data(n, noise_var=10, show=False):\n",
    "    X = np.random.triangular(0, 0.8, 1, size=n)\n",
    "    # X = np.random.uniform(0, 1, n)\n",
    "    \n",
    "    # the independant noise\n",
    "    E = np.random.normal(0, noise_var, n)\n",
    "    Y = payoff(X) + E\n",
    "    \n",
    "    if show:\n",
    "        plt.figure()\n",
    "        plt.scatter(X, Y)\n",
    "        plt.xlabel(\"X\")\n",
    "        plt.ylabel(\"Y\")\n",
    "        plt.show()\n",
    "    return X, Y"
   ]
  },
  {
   "cell_type": "markdown",
   "metadata": {},
   "source": [
    "Here's the noisy training data for our regression model"
   ]
  },
  {
   "cell_type": "code",
   "execution_count": 8,
   "metadata": {},
   "outputs": [
    {
     "data": {
      "image/png": "[encoded data removed]",
      "text/plain": [
       "<Figure size 432x288 with 1 Axes>"
      ]
     },
     "metadata": {
      "needs_background": "light"
     },
     "output_type": "display_data"
    }
   ],
   "source": [
    "#Sample:\n",
    "n_train = 1000\n",
    "noise_variance = 0.1\n",
    "X_train, Y_train = generate_data(n_train, noise_var=noise_variance, show=True)"
   ]
  },
  {
   "cell_type": "code",
   "execution_count": 9,
   "metadata": {},
   "outputs": [],
   "source": [
    "def f0(sigma):\n",
    "    # the identity function is our initialization\n",
    "    return sigma"
   ]
  },
  {
   "cell_type": "markdown",
   "metadata": {},
   "source": [
    "$$\\nabla L (h) (.) = \\mathbb{E}\\Biggl[ 2(Y-h(X)) \\min(.,X) \\Biggr] .$$"
   ]
  },
  {
   "cell_type": "code",
   "execution_count": 10,
   "metadata": {},
   "outputs": [],
   "source": [
    "def gradient_descent(X_train, Y_train, f0, n_iter=1000, step=0.05):\n",
    "    \"\"\"\n",
    "    Learning the function in the training sample points\n",
    "    \"\"\"\n",
    "    n = len(X_train)\n",
    "    F = np.zeros((n_iter,n))\n",
    "    F[0, :] = f0(X_train)\n",
    "    \n",
    "    # Why n steps for n points?\n",
    "    for i in tqdm(range(1, n_iter)):\n",
    "        for j in range(n):\n",
    "            F[i,j] = F[i-1,j] - 2 * step * np.mean((F[i-1,:] - Y_train) * np.minimum(X_train, X_train[j]))\n",
    "    return F\n",
    "\n",
    "def f(x, F_train, f0, X_train, Y_train, n_iter, step=0.05):\n",
    "    \"\"\"\n",
    "    Applying the learnt function to points outside the training sample\n",
    "    \"\"\"\n",
    "    a = [np.mean(2 * step * (F_train[j, :] - Y_train) * np.minimum(X_train, x)) \n",
    "         for j in range(n_iter - 1)]\n",
    "    _sum = sum(a)\n",
    "    res = f0(x) - _sum\n",
    "    return res"
   ]
  },
  {
   "cell_type": "code",
   "execution_count": 11,
   "metadata": {},
   "outputs": [
    {
     "name": "stderr",
     "output_type": "stream",
     "text": [
      "100%|██████████| 4999/4999 [00:51<00:00, 96.97it/s]\n"
     ]
    }
   ],
   "source": [
    "# Run the gradient descent\n",
    "step = 0.05\n",
    "n_iter = 5000\n",
    "F_train = gradient_descent(X_train, Y_train, f0, n_iter, step)\n",
    "\n",
    "n_test = 100\n",
    "X_test = np.linspace(0, 1, n_test)\n",
    "y_pred_test = np.array([f(x, F_train, f0, X_train, Y_train, n_iter, step) for x in X_test])"
   ]
  },
  {
   "cell_type": "markdown",
   "metadata": {},
   "source": [
    "Run a KNN regressor on the same data for comparison"
   ]
  },
  {
   "cell_type": "code",
   "execution_count": 12,
   "metadata": {},
   "outputs": [],
   "source": [
    "knn = neighbors.KNeighborsRegressor(n_neighbors=5, weights=\"distance\")\n",
    "knn_pred_y_test = knn.fit(X_train.reshape((-1, 1)), Y_train).predict(X_test.reshape((-1, 1)))"
   ]
  },
  {
   "cell_type": "markdown",
   "metadata": {},
   "source": [
    "Compare the results of both regressions to the ground truth"
   ]
  },
  {
   "cell_type": "code",
   "execution_count": 13,
   "metadata": {},
   "outputs": [
    {
     "data": {
      "image/png": "[encoded data removed]",
      "text/plain": [
       "<Figure size 432x288 with 1 Axes>"
      ]
     },
     "metadata": {
      "needs_background": "light"
     },
     "output_type": "display_data"
    }
   ],
   "source": [
    "x_order = np.argsort(X_test)\n",
    "plt.title(\"n_train = {}, noise variance = {}\".format(n_train, noise_variance))\n",
    "\n",
    "sorted_X_test = np.sort(X_test)\n",
    "plt.plot(sorted_X_test, knn_pred_y_test[x_order], label='KNN', color='r')\n",
    "plt.plot(sorted_X_test, y_pred_test[x_order], label='GD', color='b')\n",
    "plt.plot(sorted_X_test, payoff(sorted_X_test), label='Ground truth', color='g')\n",
    "plt.legend()\n",
    "plt.show()"
   ]
  },
  {
   "cell_type": "markdown",
   "metadata": {},
   "source": [
    "Comparison of the losses on the test sample"
   ]
  },
  {
   "cell_type": "code",
   "execution_count": 15,
   "metadata": {},
   "outputs": [
    {
     "name": "stdout",
     "output_type": "stream",
     "text": [
      "0.0036404352711034726 0.005249387019166448\n"
     ]
    }
   ],
   "source": [
    "print(np.mean((payoff(X_test) - y_pred_test.reshape((1, -1)))**2),np.mean((payoff(X_test) - knn_pred_y_test.reshape((1, -1)))**2))"
   ]
  },
  {
   "cell_type": "markdown",
   "metadata": {},
   "source": [
    "Plot of the training loss"
   ]
  },
  {
   "cell_type": "code",
   "execution_count": 16,
   "metadata": {},
   "outputs": [
    {
     "data": {
      "image/png": "[encoded data removed]",
      "text/plain": [
       "<Figure size 432x288 with 1 Axes>"
      ]
     },
     "metadata": {
      "needs_background": "light"
     },
     "output_type": "display_data"
    }
   ],
   "source": [
    "loss_train = np.mean((F_train - Y_train.reshape((1, -1)))**2, axis=1)\n",
    "\n",
    "plt.figure()\n",
    "plt.plot(loss_train)\n",
    "plt.show()"
   ]
  },
  {
   "cell_type": "code",
   "execution_count": 16,
   "metadata": {},
   "outputs": [
    {
     "data": {
      "text/plain": [
       "(5000, 1000)"
      ]
     },
     "execution_count": 16,
     "metadata": {},
     "output_type": "execute_result"
    }
   ],
   "source": [
    "F_train.shape"
   ]
  }
 ],
 "metadata": {
  "kernelspec": {
   "display_name": "Python 3",
   "language": "python",
   "name": "python3"
  },
  "language_info": {
   "codemirror_mode": {
    "name": "ipython",
    "version": 3
   },
   "file_extension": ".py",
   "mimetype": "text/x-python",
   "name": "python",
   "nbconvert_exporter": "python",
   "pygments_lexer": "ipython3",
   "version": "3.8.5"
  }
 },
 "nbformat": 4,
 "nbformat_minor": 4
}
